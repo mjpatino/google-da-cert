{
 "cells": [
  {
   "attachments": {},
   "cell_type": "markdown",
   "metadata": {},
   "source": [
    "# Capstone project"
   ]
  },
  {
   "attachments": {},
   "cell_type": "markdown",
   "metadata": {},
   "source": [
    "This notebook presents the analysis of Cyclistic historical data for the Google Data Analytics' Capstone course. Cyclistic, a fictional bike-share company, is willing to convert casual riders into annual members by designing a marketing strategy targeting this specific Cyclistic audience since they are already aware of the Cyclistic program and have chosen Cyclistic for their mobility needs. However, the company believes future growth depends on maximizing the number of annual memberships.\n",
    "\n",
    "Cyclistic has three flexible plans: single-ride passes, full-day passes, and annual memberships. Customers who purchase single-ride or full-day passes are referred to as casual riders. Customers who purchase annual memberships are Cyclistic members. Besides traditional bicycles, Cyclistic offers reclining bikes, hand tricycles, and cargo bikes, making bike-share more inclusive to people with disabilities and riders who can’t use a standard two-wheeled bike.\n",
    "\n",
    "The director of marketing has set a clear goal: Design marketing strategies aimed at converting casual riders into annual members. In order to do that, however, the marketing analyst team needs to better understand how annual members and casual riders differ, why casual riders would buy a membership, and how digital media could affect their marketing tactics. Moreno and her team are interested in analyzing the Cyclistic historical bike trip data to identify trends.\n",
    "\n",
    "This analysis is focused on the first problem: **how annual members and casual riders differ**"
   ]
  }
 ],
 "metadata": {
  "kernelspec": {
   "display_name": "R",
   "language": "R",
   "name": "ir"
  },
  "language_info": {
   "codemirror_mode": "r",
   "file_extension": ".r",
   "mimetype": "text/x-r-source",
   "name": "R",
   "pygments_lexer": "r",
   "version": "4.2.2"
  },
  "orig_nbformat": 4,
  "vscode": {
   "interpreter": {
    "hash": "7cf7a49d1a42a4809de0f3a1e252970087c14d6ced0f604115bf5aeb4902f00f"
   }
  }
 },
 "nbformat": 4,
 "nbformat_minor": 2
}
